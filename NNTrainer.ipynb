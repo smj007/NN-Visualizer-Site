{
 "cells": [
  {
   "cell_type": "markdown",
   "metadata": {},
   "source": [
    "# Import Libraries"
   ]
  },
  {
   "cell_type": "code",
   "execution_count": 1,
   "metadata": {},
   "outputs": [],
   "source": [
    "%matplotlib inline\n",
    "\n",
    "import tensorflow as tf\n",
    "import numpy as np\n",
    "import matplotlib.pyplot as plt"
   ]
  },
  {
   "cell_type": "markdown",
   "metadata": {},
   "source": [
    "# Download Data"
   ]
  },
  {
   "cell_type": "code",
   "execution_count": 2,
   "metadata": {},
   "outputs": [
    {
     "name": "stdout",
     "output_type": "stream",
     "text": [
      "Downloading data from https://storage.googleapis.com/tensorflow/tf-keras-datasets/mnist.npz\n",
      "11493376/11490434 [==============================] - 3s 0us/step\n"
     ]
    }
   ],
   "source": [
    "(x_train, y_train), (x_test, y_test) = tf.keras.datasets.mnist.load_data()"
   ]
  },
  {
   "cell_type": "markdown",
   "metadata": {},
   "source": [
    "# Plot Examples"
   ]
  },
  {
   "cell_type": "code",
   "execution_count": 3,
   "metadata": {},
   "outputs": [
    {
     "data": {
      "image/png": "[encoded data removed]",
      "text/plain": [
       "<Figure size 720x720 with 16 Axes>"
      ]
     },
     "metadata": {},
     "output_type": "display_data"
    }
   ],
   "source": [
    "plt.figure(figsize=(10, 10))\n",
    "\n",
    "for i in range(16):\n",
    "    plt.subplot(4, 4, i + 1)\n",
    "    plt.imshow(x_train[i], cmap='binary')\n",
    "    plt.xlabel(str(y_train[i]))\n",
    "    plt.xticks([])\n",
    "    plt.yticks([])\n",
    "plt.show()"
   ]
  },
  {
   "cell_type": "markdown",
   "metadata": {},
   "source": [
    "# Normalize Data"
   ]
  },
  {
   "cell_type": "code",
   "execution_count": 4,
   "metadata": {},
   "outputs": [],
   "source": [
    "x_train = np.reshape(x_train, (60000, 784))\n",
    "x_train = x_train / 255.\n",
    "\n",
    "x_test = np.reshape(x_test, (10000, 784))\n",
    "x_test = x_test / 255."
   ]
  },
  {
   "cell_type": "markdown",
   "metadata": {},
   "source": [
    "# Create a Neural Network Model"
   ]
  },
  {
   "cell_type": "code",
   "execution_count": 5,
   "metadata": {},
   "outputs": [],
   "source": [
    "model = tf.keras.models.Sequential([\n",
    "    tf.keras.layers.Dense(32, activation='sigmoid', input_shape=(784,)),\n",
    "    tf.keras.layers.Dense(32, activation='sigmoid'),\n",
    "    tf.keras.layers.Dense(10, activation='softmax')\n",
    "])\n",
    "\n",
    "model.compile(loss='sparse_categorical_crossentropy', optimizer='adam', metrics=['accuracy'])"
   ]
  },
  {
   "cell_type": "markdown",
   "metadata": {},
   "source": [
    "# Train the Model"
   ]
  },
  {
   "cell_type": "code",
   "execution_count": 6,
   "metadata": {},
   "outputs": [
    {
     "name": "stdout",
     "output_type": "stream",
     "text": [
      "Epoch 1/20\n",
      "59/59 - 0s - loss: 2.1253 - accuracy: 0.4177 - val_loss: 1.8938 - val_accuracy: 0.5118\n",
      "Epoch 2/20\n",
      "59/59 - 0s - loss: 1.6743 - accuracy: 0.5854 - val_loss: 1.4474 - val_accuracy: 0.6552\n",
      "Epoch 3/20\n",
      "59/59 - 0s - loss: 1.2754 - accuracy: 0.7180 - val_loss: 1.1093 - val_accuracy: 0.7575\n",
      "Epoch 4/20\n",
      "59/59 - 0s - loss: 0.9922 - accuracy: 0.7993 - val_loss: 0.8772 - val_accuracy: 0.8311\n",
      "Epoch 5/20\n",
      "59/59 - 0s - loss: 0.7959 - accuracy: 0.8447 - val_loss: 0.7112 - val_accuracy: 0.8678\n",
      "Epoch 6/20\n",
      "59/59 - 0s - loss: 0.6531 - accuracy: 0.8713 - val_loss: 0.5896 - val_accuracy: 0.8843\n",
      "Epoch 7/20\n",
      "59/59 - 0s - loss: 0.5478 - accuracy: 0.8856 - val_loss: 0.5019 - val_accuracy: 0.8931\n",
      "Epoch 8/20\n",
      "59/59 - 0s - loss: 0.4720 - accuracy: 0.8953 - val_loss: 0.4394 - val_accuracy: 0.8987\n",
      "Epoch 9/20\n",
      "59/59 - 0s - loss: 0.4175 - accuracy: 0.9027 - val_loss: 0.3936 - val_accuracy: 0.9063\n",
      "Epoch 10/20\n",
      "59/59 - 0s - loss: 0.3773 - accuracy: 0.9080 - val_loss: 0.3599 - val_accuracy: 0.9120\n",
      "Epoch 11/20\n",
      "59/59 - 0s - loss: 0.3463 - accuracy: 0.9136 - val_loss: 0.3327 - val_accuracy: 0.9161\n",
      "Epoch 12/20\n",
      "59/59 - 0s - loss: 0.3218 - accuracy: 0.9185 - val_loss: 0.3110 - val_accuracy: 0.9194\n",
      "Epoch 13/20\n",
      "59/59 - 0s - loss: 0.3016 - accuracy: 0.9223 - val_loss: 0.2940 - val_accuracy: 0.9219\n",
      "Epoch 14/20\n",
      "59/59 - 0s - loss: 0.2849 - accuracy: 0.9256 - val_loss: 0.2795 - val_accuracy: 0.9243\n",
      "Epoch 15/20\n",
      "59/59 - 0s - loss: 0.2703 - accuracy: 0.9289 - val_loss: 0.2679 - val_accuracy: 0.9262\n",
      "Epoch 16/20\n",
      "59/59 - 0s - loss: 0.2581 - accuracy: 0.9315 - val_loss: 0.2564 - val_accuracy: 0.9295\n",
      "Epoch 17/20\n",
      "59/59 - 0s - loss: 0.2468 - accuracy: 0.9343 - val_loss: 0.2456 - val_accuracy: 0.9314\n",
      "Epoch 18/20\n",
      "59/59 - 0s - loss: 0.2368 - accuracy: 0.9364 - val_loss: 0.2375 - val_accuracy: 0.9332\n",
      "Epoch 19/20\n",
      "59/59 - 0s - loss: 0.2280 - accuracy: 0.9382 - val_loss: 0.2305 - val_accuracy: 0.9345\n",
      "Epoch 20/20\n",
      "59/59 - 0s - loss: 0.2197 - accuracy: 0.9403 - val_loss: 0.2231 - val_accuracy: 0.9359\n"
     ]
    }
   ],
   "source": [
    "_ = model.fit(\n",
    "    x_train, y_train,\n",
    "    validation_data=(x_test, y_test),\n",
    "    epochs=20, batch_size=1024,\n",
    "    verbose=2\n",
    ")"
   ]
  },
  {
   "cell_type": "markdown",
   "metadata": {},
   "source": [
    "# Save the Model"
   ]
  },
  {
   "cell_type": "code",
   "execution_count": 7,
   "metadata": {},
   "outputs": [],
   "source": [
    "model.save('model.h5')"
   ]
  },
  {
   "cell_type": "code",
   "execution_count": null,
   "metadata": {},
   "outputs": [],
   "source": []
  }
 ],
 "metadata": {
  "kernelspec": {
   "display_name": "Python 3",
   "language": "python",
   "name": "python3"
  },
  "language_info": {
   "codemirror_mode": {
    "name": "ipython",
    "version": 3
   },
   "file_extension": ".py",
   "mimetype": "text/x-python",
   "name": "python",
   "nbconvert_exporter": "python",
   "pygments_lexer": "ipython3",
   "version": "3.7.7"
  }
 },
 "nbformat": 4,
 "nbformat_minor": 2
}
